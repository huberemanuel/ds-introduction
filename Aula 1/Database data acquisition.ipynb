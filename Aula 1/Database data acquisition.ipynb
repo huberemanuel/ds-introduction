{
 "metadata": {
  "language_info": {
   "codemirror_mode": {
    "name": "ipython",
    "version": 3
   },
   "file_extension": ".py",
   "mimetype": "text/x-python",
   "name": "python",
   "nbconvert_exporter": "python",
   "pygments_lexer": "ipython3",
   "version": "3.8.3-final"
  },
  "orig_nbformat": 2,
  "kernelspec": {
   "name": "splice-smartcam",
   "display_name": "Smartcam",
   "language": "python"
  }
 },
 "nbformat": 4,
 "nbformat_minor": 2,
 "cells": [
  {
   "source": [
    "# Extraindo dados de databases e convertendo para DataFrame\n",
    "\n",
    "A maioria, senão todas as empresas utilizam bancos de dados, sejam eles proprietários (SQL) ou open-source (MySQL, SQlite).\n",
    "Sendo assim, é muito comum um cientista de dados precisar extrair dados de um database para realizar análises.\n",
    "Iremos aprender a realizar essa extração com o banco de dados SQLite e a biblioteca nativa do python `sqlite3`, no fim criando um `pandas.DataFrame` com os dados extraídos."
   ],
   "cell_type": "markdown",
   "metadata": {}
  },
  {
   "source": [
    "## O que é um SGBD?\n",
    "\n",
    "O SGBD (Sistema Gerenciador de Bancos de Dados) é um software ou conjunto de softwares que gerencia tabelas criadas pelos usuários de seu sistema. Analogamente, podemos pensar nos arquivos csv como tabelas que poderiam ser inseridas em um banco de dados. \n",
    "Uma das vantagens de utilizar um SGBD como MySQL, SQLite é de que o seu banco pode estar disponível para múltiplos usuários em um servidor, o que geralmente é o caso das empresas, que possuem centenas de tabelas com dados que podem ser analisados por um cientista de dados, por isso o interesse em extrair os dados desses SGBDs."
   ],
   "cell_type": "markdown",
   "metadata": {}
  },
  {
   "source": [
    "## SQLite\n",
    "\n",
    "Para a simplicidade do exemplo, iremos utilizar o SQLite que não requer instalações adicionais, somente o próprio arquivo do database com as tabelas criadas e dados inseridos para o nosso exemplo.\n",
    "\n",
    "Nesse exemplo, iremos trabalhar com a seguinte tabela:\n",
    "\n",
    "### Tabela de usuários\n",
    "\n",
    "![Tabela de usuários](assets/example-db.png)\n",
    "\n",
    "O primeiro passo para extrair os dados é realizar o import do pacote `sqlite3`"
   ],
   "cell_type": "markdown",
   "metadata": {}
  },
  {
   "cell_type": "code",
   "execution_count": 3,
   "metadata": {},
   "outputs": [],
   "source": [
    "import sqlite3"
   ]
  },
  {
   "source": [
    "# Conexão com a base de dados\n",
    "\n",
    "O `sqlite3` espera que o usuário crie uma conexão com a base de dados, realize as operações e então encerre a conexão, da seguinte forma:"
   ],
   "cell_type": "markdown",
   "metadata": {}
  },
  {
   "cell_type": "code",
   "execution_count": 5,
   "metadata": {},
   "outputs": [],
   "source": [
    "# Criação da conexão\n",
    "connection = sqlite3.connect(\"assets/example.db\")\n",
    "\n",
    "# Operações com o banco (SELECT, CREATE, ETC)\n",
    "\n",
    "# Encerramento da conexão\n",
    "connection.close()"
   ]
  },
  {
   "source": [
    "# Realizar a consulta de seleção dos dados\n",
    "\n",
    "Agora dentro dessa estrutura apresentada, iremos realizar a execução do comando `SELECT` que realiza a seleção dos dados de uma ou mais tabelas."
   ],
   "cell_type": "markdown",
   "metadata": {}
  },
  {
   "cell_type": "code",
   "execution_count": 9,
   "metadata": {},
   "outputs": [],
   "source": [
    "connection = sqlite3.connect(\"assets/example.db\")\n",
    "\n",
    "# Criação do cursor, elemento que \"aponta\" para os dados e permite percorrê-los\n",
    "cursor = connection.cursor()\n",
    "\n",
    "# Definição da string de busca no banco de dados\n",
    "query = \"SELECT * FROM users\"\n",
    "\n",
    "# Execução da consulta pelo cursor\n",
    "cursor.execute(query)\n",
    "\n",
    "# Extração dos resultados\n",
    "result = cursor.fetchall()\n",
    "\n",
    "connection.close()"
   ]
  },
  {
   "source": [
    "Criamos uma conexão, executamos um consulta armazenando os resultados na variável `result` e fechamos a conexão. \n",
    "\n",
    "Vamos verificar se os resultados são iguais aos da imagem apresentada no início."
   ],
   "cell_type": "markdown",
   "metadata": {}
  },
  {
   "cell_type": "code",
   "execution_count": 10,
   "metadata": {},
   "outputs": [
    {
     "output_type": "stream",
     "name": "stdout",
     "text": [
      "(1, 'Lorem Ipsum', '01/01/1997/', 2)\n(2, 'Ipsum Lorem', '01/02/1897', 7)\n(3, 'DeGrasse Tyson', '05/10/1958', 7)\n(4, 'Ipsum Lorem', '01/02/1897', 2)\n(5, 'Carl Sagan', '09/11/1934', 5)\n"
     ]
    }
   ],
   "source": [
    "for row in result:\n",
    "    print(row)"
   ]
  },
  {
   "source": [
    "Os resultados foram iguais, sendo assim a nossa extração foi executada corretamente.\n",
    "\n",
    "# Conversão dos dados para Pandas.DataFrame\n",
    "\n",
    "O próximo e último passo é criar um objeto do tipo `pandas.DataFrame` com todos os dados extraídos."
   ],
   "cell_type": "markdown",
   "metadata": {}
  },
  {
   "cell_type": "code",
   "execution_count": 15,
   "metadata": {},
   "outputs": [
    {
     "output_type": "execute_result",
     "data": {
      "text/plain": [
       "   user_id       full_name   birth_date  children\n",
       "0        1     Lorem Ipsum  01/01/1997/         2\n",
       "1        2     Ipsum Lorem   01/02/1897         7\n",
       "2        3  DeGrasse Tyson   05/10/1958         7\n",
       "3        4     Ipsum Lorem   01/02/1897         2\n",
       "4        5      Carl Sagan   09/11/1934         5"
      ],
      "text/html": "<div>\n<style scoped>\n    .dataframe tbody tr th:only-of-type {\n        vertical-align: middle;\n    }\n\n    .dataframe tbody tr th {\n        vertical-align: top;\n    }\n\n    .dataframe thead th {\n        text-align: right;\n    }\n</style>\n<table border=\"1\" class=\"dataframe\">\n  <thead>\n    <tr style=\"text-align: right;\">\n      <th></th>\n      <th>user_id</th>\n      <th>full_name</th>\n      <th>birth_date</th>\n      <th>children</th>\n    </tr>\n  </thead>\n  <tbody>\n    <tr>\n      <th>0</th>\n      <td>1</td>\n      <td>Lorem Ipsum</td>\n      <td>01/01/1997/</td>\n      <td>2</td>\n    </tr>\n    <tr>\n      <th>1</th>\n      <td>2</td>\n      <td>Ipsum Lorem</td>\n      <td>01/02/1897</td>\n      <td>7</td>\n    </tr>\n    <tr>\n      <th>2</th>\n      <td>3</td>\n      <td>DeGrasse Tyson</td>\n      <td>05/10/1958</td>\n      <td>7</td>\n    </tr>\n    <tr>\n      <th>3</th>\n      <td>4</td>\n      <td>Ipsum Lorem</td>\n      <td>01/02/1897</td>\n      <td>2</td>\n    </tr>\n    <tr>\n      <th>4</th>\n      <td>5</td>\n      <td>Carl Sagan</td>\n      <td>09/11/1934</td>\n      <td>5</td>\n    </tr>\n  </tbody>\n</table>\n</div>"
     },
     "metadata": {},
     "execution_count": 15
    }
   ],
   "source": [
    "import pandas as pd\n",
    "\n",
    "df = pd.DataFrame(result, columns=[\"user_id\", \"full_name\", \"birth_date\", \"children\"])\n",
    "\n",
    "df.head()"
   ]
  },
  {
   "source": [
    "# Exercício\n",
    "\n",
    "Realize o mesmo tipo de extração da base, porém utilizado a base providenciada `movies.sql`"
   ],
   "cell_type": "markdown",
   "metadata": {}
  }
 ]
}